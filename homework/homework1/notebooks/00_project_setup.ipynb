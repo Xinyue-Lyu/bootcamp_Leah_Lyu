# Environment & Config Check

from dotenv import load_dotenv
import os
import numpy as np

# Load .env if present
load_dotenv()

# Check API_KEY
api_key = os.getenv("API_KEY")
if api_key:
    print("API_KEY found in environment.")
else:
    print("API_KEY not found.")

# Small NumPy array operation
arr = np.array([1, 2, 3, 4, 5])
print("Original array:", arr)
print("Squared array:", arr ** 2)
