# Environment & Config Check
load_dotenv()

api_key_present = get_key("API_KEY") is not None
print("API_KEY present:", api_key_present)

import numpy as np
arr = np.array([1, 2, 3, 4, 5])

