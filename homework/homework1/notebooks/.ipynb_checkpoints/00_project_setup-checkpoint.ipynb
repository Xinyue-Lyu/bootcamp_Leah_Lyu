{
 "cells": [
  {
   "cell_type": "code",
   "execution_count": null,
   "id": "86fc5258-fa81-4912-b883-21e2abf8e9f1",
   "metadata": {},
   "outputs": [],
   "source": [
    "# Environment & Config Check\n",
    "from dotenv import load_dotenv\n",
    "import os\n",
    "import numpy as np\n",
    "\n",
    "# Load .env if present\n",
    "load_dotenv()\n",
    "\n",
    "# Check API_KEY\n",
    "api_key = os.getenv(\"API_KEY\")\n",
    "if api_key:\n",
    "    print(\"API_KEY found in environment.\")\n",
    "else:\n",
    "    print(\"API_KEY not found.\")\n",
    "\n",
    "# Small NumPy array operation\n",
    "arr = np.array([1, 2, 3, 4, 5])\n",
    "print(\"Original array:\", arr)\n",
    "print(\"Squared array:\", arr ** 2)\n"
   ]
  }
 ],
 "metadata": {
  "kernelspec": {
   "display_name": "Python 3 (ipykernel)",
   "language": "python",
   "name": "python3"
  },
  "language_info": {
   "codemirror_mode": {
    "name": "ipython",
    "version": 3
   },
   "file_extension": ".py",
   "mimetype": "text/x-python",
   "name": "python",
   "nbconvert_exporter": "python",
   "pygments_lexer": "ipython3",
   "version": "3.11.13"
  }
 },
 "nbformat": 4,
 "nbformat_minor": 5
}
